{
  "cells": [
    {
      "cell_type": "markdown",
      "metadata": {
        "id": "view-in-github",
        "colab_type": "text"
      },
      "source": [
        "<a href=\"https://colab.research.google.com/github/Vinayak-Sharma12/Kaggle_99Acre_HousingData/blob/main/CSV.ipynb\" target=\"_parent\"><img src=\"https://colab.research.google.com/assets/colab-badge.svg\" alt=\"Open In Colab\"/></a>"
      ]
    },
    {
      "cell_type": "code",
      "execution_count": null,
      "metadata": {
        "colab": {
          "background_save": true
        },
        "id": "5KKKcYAbaN7O",
        "outputId": "d92cf32a-60a5-43b8-af47-befeb9735d68"
      },
      "outputs": [
        {
          "name": "stdout",
          "output_type": "stream",
          "text": [
            "Collecting langchain-experimental\n",
            "  Downloading langchain_experimental-0.3.4-py3-none-any.whl.metadata (1.7 kB)\n",
            "Collecting langchain-community<0.4.0,>=0.3.0 (from langchain-experimental)\n",
            "  Downloading langchain_community-0.3.20-py3-none-any.whl.metadata (2.4 kB)\n",
            "Requirement already satisfied: langchain-core<0.4.0,>=0.3.28 in /usr/local/lib/python3.11/dist-packages (from langchain-experimental) (0.3.45)\n",
            "Collecting langchain<1.0.0,>=0.3.21 (from langchain-community<0.4.0,>=0.3.0->langchain-experimental)\n",
            "  Downloading langchain-0.3.21-py3-none-any.whl.metadata (7.8 kB)\n",
            "Requirement already satisfied: SQLAlchemy<3,>=1.4 in /usr/local/lib/python3.11/dist-packages (from langchain-community<0.4.0,>=0.3.0->langchain-experimental) (2.0.39)\n",
            "Requirement already satisfied: requests<3,>=2 in /usr/local/lib/python3.11/dist-packages (from langchain-community<0.4.0,>=0.3.0->langchain-experimental) (2.32.3)\n",
            "Requirement already satisfied: PyYAML>=5.3 in /usr/local/lib/python3.11/dist-packages (from langchain-community<0.4.0,>=0.3.0->langchain-experimental) (6.0.2)\n",
            "Requirement already satisfied: aiohttp<4.0.0,>=3.8.3 in /usr/local/lib/python3.11/dist-packages (from langchain-community<0.4.0,>=0.3.0->langchain-experimental) (3.11.14)\n",
            "Requirement already satisfied: tenacity!=8.4.0,<10,>=8.1.0 in /usr/local/lib/python3.11/dist-packages (from langchain-community<0.4.0,>=0.3.0->langchain-experimental) (9.0.0)\n",
            "Collecting dataclasses-json<0.7,>=0.5.7 (from langchain-community<0.4.0,>=0.3.0->langchain-experimental)\n",
            "  Downloading dataclasses_json-0.6.7-py3-none-any.whl.metadata (25 kB)\n",
            "Collecting pydantic-settings<3.0.0,>=2.4.0 (from langchain-community<0.4.0,>=0.3.0->langchain-experimental)\n",
            "  Downloading pydantic_settings-2.8.1-py3-none-any.whl.metadata (3.5 kB)\n",
            "Requirement already satisfied: langsmith<0.4,>=0.1.125 in /usr/local/lib/python3.11/dist-packages (from langchain-community<0.4.0,>=0.3.0->langchain-experimental) (0.3.15)\n",
            "Collecting httpx-sse<1.0.0,>=0.4.0 (from langchain-community<0.4.0,>=0.3.0->langchain-experimental)\n",
            "  Downloading httpx_sse-0.4.0-py3-none-any.whl.metadata (9.0 kB)\n",
            "Requirement already satisfied: numpy<3,>=1.26.2 in /usr/local/lib/python3.11/dist-packages (from langchain-community<0.4.0,>=0.3.0->langchain-experimental) (2.0.2)\n",
            "Requirement already satisfied: jsonpatch<2.0,>=1.33 in /usr/local/lib/python3.11/dist-packages (from langchain-core<0.4.0,>=0.3.28->langchain-experimental) (1.33)\n",
            "Requirement already satisfied: packaging<25,>=23.2 in /usr/local/lib/python3.11/dist-packages (from langchain-core<0.4.0,>=0.3.28->langchain-experimental) (24.2)\n",
            "Requirement already satisfied: typing-extensions>=4.7 in /usr/local/lib/python3.11/dist-packages (from langchain-core<0.4.0,>=0.3.28->langchain-experimental) (4.12.2)\n",
            "Requirement already satisfied: pydantic<3.0.0,>=2.5.2 in /usr/local/lib/python3.11/dist-packages (from langchain-core<0.4.0,>=0.3.28->langchain-experimental) (2.10.6)\n",
            "Requirement already satisfied: aiohappyeyeballs>=2.3.0 in /usr/local/lib/python3.11/dist-packages (from aiohttp<4.0.0,>=3.8.3->langchain-community<0.4.0,>=0.3.0->langchain-experimental) (2.6.1)\n",
            "Requirement already satisfied: aiosignal>=1.1.2 in /usr/local/lib/python3.11/dist-packages (from aiohttp<4.0.0,>=3.8.3->langchain-community<0.4.0,>=0.3.0->langchain-experimental) (1.3.2)\n",
            "Requirement already satisfied: attrs>=17.3.0 in /usr/local/lib/python3.11/dist-packages (from aiohttp<4.0.0,>=3.8.3->langchain-community<0.4.0,>=0.3.0->langchain-experimental) (25.3.0)\n",
            "Requirement already satisfied: frozenlist>=1.1.1 in /usr/local/lib/python3.11/dist-packages (from aiohttp<4.0.0,>=3.8.3->langchain-community<0.4.0,>=0.3.0->langchain-experimental) (1.5.0)\n",
            "Requirement already satisfied: multidict<7.0,>=4.5 in /usr/local/lib/python3.11/dist-packages (from aiohttp<4.0.0,>=3.8.3->langchain-community<0.4.0,>=0.3.0->langchain-experimental) (6.2.0)\n",
            "Requirement already satisfied: propcache>=0.2.0 in /usr/local/lib/python3.11/dist-packages (from aiohttp<4.0.0,>=3.8.3->langchain-community<0.4.0,>=0.3.0->langchain-experimental) (0.3.0)\n",
            "Requirement already satisfied: yarl<2.0,>=1.17.0 in /usr/local/lib/python3.11/dist-packages (from aiohttp<4.0.0,>=3.8.3->langchain-community<0.4.0,>=0.3.0->langchain-experimental) (1.18.3)\n",
            "Collecting marshmallow<4.0.0,>=3.18.0 (from dataclasses-json<0.7,>=0.5.7->langchain-community<0.4.0,>=0.3.0->langchain-experimental)\n",
            "  Downloading marshmallow-3.26.1-py3-none-any.whl.metadata (7.3 kB)\n",
            "Collecting typing-inspect<1,>=0.4.0 (from dataclasses-json<0.7,>=0.5.7->langchain-community<0.4.0,>=0.3.0->langchain-experimental)\n",
            "  Downloading typing_inspect-0.9.0-py3-none-any.whl.metadata (1.5 kB)\n",
            "Requirement already satisfied: jsonpointer>=1.9 in /usr/local/lib/python3.11/dist-packages (from jsonpatch<2.0,>=1.33->langchain-core<0.4.0,>=0.3.28->langchain-experimental) (3.0.0)\n",
            "Collecting langchain-text-splitters<1.0.0,>=0.3.7 (from langchain<1.0.0,>=0.3.21->langchain-community<0.4.0,>=0.3.0->langchain-experimental)\n",
            "  Downloading langchain_text_splitters-0.3.7-py3-none-any.whl.metadata (1.9 kB)\n",
            "Requirement already satisfied: httpx<1,>=0.23.0 in /usr/local/lib/python3.11/dist-packages (from langsmith<0.4,>=0.1.125->langchain-community<0.4.0,>=0.3.0->langchain-experimental) (0.28.1)\n",
            "Requirement already satisfied: orjson<4.0.0,>=3.9.14 in /usr/local/lib/python3.11/dist-packages (from langsmith<0.4,>=0.1.125->langchain-community<0.4.0,>=0.3.0->langchain-experimental) (3.10.15)\n",
            "Requirement already satisfied: requests-toolbelt<2.0.0,>=1.0.0 in /usr/local/lib/python3.11/dist-packages (from langsmith<0.4,>=0.1.125->langchain-community<0.4.0,>=0.3.0->langchain-experimental) (1.0.0)\n",
            "Requirement already satisfied: zstandard<0.24.0,>=0.23.0 in /usr/local/lib/python3.11/dist-packages (from langsmith<0.4,>=0.1.125->langchain-community<0.4.0,>=0.3.0->langchain-experimental) (0.23.0)\n",
            "Requirement already satisfied: annotated-types>=0.6.0 in /usr/local/lib/python3.11/dist-packages (from pydantic<3.0.0,>=2.5.2->langchain-core<0.4.0,>=0.3.28->langchain-experimental) (0.7.0)\n",
            "Requirement already satisfied: pydantic-core==2.27.2 in /usr/local/lib/python3.11/dist-packages (from pydantic<3.0.0,>=2.5.2->langchain-core<0.4.0,>=0.3.28->langchain-experimental) (2.27.2)\n",
            "Collecting python-dotenv>=0.21.0 (from pydantic-settings<3.0.0,>=2.4.0->langchain-community<0.4.0,>=0.3.0->langchain-experimental)\n",
            "  Downloading python_dotenv-1.0.1-py3-none-any.whl.metadata (23 kB)\n",
            "Requirement already satisfied: charset-normalizer<4,>=2 in /usr/local/lib/python3.11/dist-packages (from requests<3,>=2->langchain-community<0.4.0,>=0.3.0->langchain-experimental) (3.4.1)\n",
            "Requirement already satisfied: idna<4,>=2.5 in /usr/local/lib/python3.11/dist-packages (from requests<3,>=2->langchain-community<0.4.0,>=0.3.0->langchain-experimental) (3.10)\n",
            "Requirement already satisfied: urllib3<3,>=1.21.1 in /usr/local/lib/python3.11/dist-packages (from requests<3,>=2->langchain-community<0.4.0,>=0.3.0->langchain-experimental) (2.3.0)\n",
            "Requirement already satisfied: certifi>=2017.4.17 in /usr/local/lib/python3.11/dist-packages (from requests<3,>=2->langchain-community<0.4.0,>=0.3.0->langchain-experimental) (2025.1.31)\n",
            "Requirement already satisfied: greenlet!=0.4.17 in /usr/local/lib/python3.11/dist-packages (from SQLAlchemy<3,>=1.4->langchain-community<0.4.0,>=0.3.0->langchain-experimental) (3.1.1)\n",
            "Requirement already satisfied: anyio in /usr/local/lib/python3.11/dist-packages (from httpx<1,>=0.23.0->langsmith<0.4,>=0.1.125->langchain-community<0.4.0,>=0.3.0->langchain-experimental) (4.9.0)\n",
            "Requirement already satisfied: httpcore==1.* in /usr/local/lib/python3.11/dist-packages (from httpx<1,>=0.23.0->langsmith<0.4,>=0.1.125->langchain-community<0.4.0,>=0.3.0->langchain-experimental) (1.0.7)\n",
            "Requirement already satisfied: h11<0.15,>=0.13 in /usr/local/lib/python3.11/dist-packages (from httpcore==1.*->httpx<1,>=0.23.0->langsmith<0.4,>=0.1.125->langchain-community<0.4.0,>=0.3.0->langchain-experimental) (0.14.0)\n",
            "Collecting mypy-extensions>=0.3.0 (from typing-inspect<1,>=0.4.0->dataclasses-json<0.7,>=0.5.7->langchain-community<0.4.0,>=0.3.0->langchain-experimental)\n",
            "  Downloading mypy_extensions-1.0.0-py3-none-any.whl.metadata (1.1 kB)\n",
            "Requirement already satisfied: sniffio>=1.1 in /usr/local/lib/python3.11/dist-packages (from anyio->httpx<1,>=0.23.0->langsmith<0.4,>=0.1.125->langchain-community<0.4.0,>=0.3.0->langchain-experimental) (1.3.1)\n",
            "Downloading langchain_experimental-0.3.4-py3-none-any.whl (209 kB)\n",
            "\u001b[2K   \u001b[90m━━━━━━━━━━━━━━━━━━━━━━━━━━━━━━━━━━━━━━━━\u001b[0m \u001b[32m209.2/209.2 kB\u001b[0m \u001b[31m4.1 MB/s\u001b[0m eta \u001b[36m0:00:00\u001b[0m\n",
            "\u001b[?25hDownloading langchain_community-0.3.20-py3-none-any.whl (2.5 MB)\n",
            "\u001b[2K   \u001b[90m━━━━━━━━━━━━━━━━━━━━━━━━━━━━━━━━━━━━━━━━\u001b[0m \u001b[32m2.5/2.5 MB\u001b[0m \u001b[31m25.1 MB/s\u001b[0m eta \u001b[36m0:00:00\u001b[0m\n",
            "\u001b[?25hDownloading dataclasses_json-0.6.7-py3-none-any.whl (28 kB)\n",
            "Downloading httpx_sse-0.4.0-py3-none-any.whl (7.8 kB)\n",
            "Downloading langchain-0.3.21-py3-none-any.whl (1.0 MB)\n",
            "\u001b[2K   \u001b[90m━━━━━━━━━━━━━━━━━━━━━━━━━━━━━━━━━━━━━━━━\u001b[0m \u001b[32m1.0/1.0 MB\u001b[0m \u001b[31m19.5 MB/s\u001b[0m eta \u001b[36m0:00:00\u001b[0m\n",
            "\u001b[?25hDownloading pydantic_settings-2.8.1-py3-none-any.whl (30 kB)\n",
            "Downloading langchain_text_splitters-0.3.7-py3-none-any.whl (32 kB)\n",
            "Downloading marshmallow-3.26.1-py3-none-any.whl (50 kB)\n",
            "\u001b[2K   \u001b[90m━━━━━━━━━━━━━━━━━━━━━━━━━━━━━━━━━━━━━━━━\u001b[0m \u001b[32m50.9/50.9 kB\u001b[0m \u001b[31m3.1 MB/s\u001b[0m eta \u001b[36m0:00:00\u001b[0m\n",
            "\u001b[?25hDownloading python_dotenv-1.0.1-py3-none-any.whl (19 kB)\n",
            "Downloading typing_inspect-0.9.0-py3-none-any.whl (8.8 kB)\n",
            "Downloading mypy_extensions-1.0.0-py3-none-any.whl (4.7 kB)\n",
            "Installing collected packages: python-dotenv, mypy-extensions, marshmallow, httpx-sse, typing-inspect, pydantic-settings, dataclasses-json, langchain-text-splitters, langchain, langchain-community, langchain-experimental\n",
            "  Attempting uninstall: langchain-text-splitters\n",
            "    Found existing installation: langchain-text-splitters 0.3.6\n",
            "    Uninstalling langchain-text-splitters-0.3.6:\n",
            "      Successfully uninstalled langchain-text-splitters-0.3.6\n",
            "  Attempting uninstall: langchain\n",
            "    Found existing installation: langchain 0.3.20\n",
            "    Uninstalling langchain-0.3.20:\n",
            "      Successfully uninstalled langchain-0.3.20\n",
            "Successfully installed dataclasses-json-0.6.7 httpx-sse-0.4.0 langchain-0.3.21 langchain-community-0.3.20 langchain-experimental-0.3.4 langchain-text-splitters-0.3.7 marshmallow-3.26.1 mypy-extensions-1.0.0 pydantic-settings-2.8.1 python-dotenv-1.0.1 typing-inspect-0.9.0\n"
          ]
        }
      ],
      "source": [
        "!pip install langchain-experimental"
      ]
    },
    {
      "cell_type": "code",
      "execution_count": null,
      "metadata": {
        "colab": {
          "background_save": true
        },
        "id": "dBrYZjCyaf7W"
      },
      "outputs": [],
      "source": [
        "from langchain_experimental.utilities import PythonREPL"
      ]
    },
    {
      "cell_type": "code",
      "execution_count": null,
      "metadata": {
        "colab": {
          "background_save": true
        },
        "id": "9Vx3UaqZajWW"
      },
      "outputs": [],
      "source": [
        "python_repl=PythonREPL()"
      ]
    },
    {
      "cell_type": "code",
      "execution_count": null,
      "metadata": {
        "colab": {
          "background_save": true
        },
        "id": "y-4BF-zBanwI"
      },
      "outputs": [],
      "source": [
        "def generate_answer(sql_query):\n",
        "    python_repl.run(\"import pandas as pd\")\n",
        "    python_repl.run(\"df = pd.read_csv('/content/new_flats.csv')\")\n",
        "\n",
        "    # Confirm that df is loaded by printing it in the REPL\n",
        "    #print(python_repl.run(\"print(df)\"))\n",
        "\n",
        "    # Now, show the first 5 rows of the DataFrame\n",
        "    x = python_repl.run(\"print(df[(df['agePossession'] == '10+ Year Old') & (df['bedRoom'] == '2 Bedrooms') & (df['property_name'].str.contains('Flat'))])\")\n",
        "    return x"
      ]
    },
    {
      "cell_type": "code",
      "execution_count": null,
      "metadata": {
        "colab": {
          "background_save": true
        },
        "id": "Y3lcduJPCEBR"
      },
      "outputs": [],
      "source": []
    },
    {
      "cell_type": "code",
      "execution_count": null,
      "metadata": {
        "colab": {
          "background_save": true
        },
        "id": "XoWp1GmNa_KT",
        "outputId": "74dda009-00c0-44c6-d849-0f47f71151fb"
      },
      "outputs": [
        {
          "name": "stdout",
          "output_type": "stream",
          "text": [
            "Collecting langchain_groq\n",
            "  Downloading langchain_groq-0.3.1-py3-none-any.whl.metadata (2.6 kB)\n",
            "Collecting langchain-core<1.0.0,>=0.3.47 (from langchain_groq)\n",
            "  Downloading langchain_core-0.3.47-py3-none-any.whl.metadata (5.9 kB)\n",
            "Collecting groq<1,>=0.4.1 (from langchain_groq)\n",
            "  Downloading groq-0.20.0-py3-none-any.whl.metadata (15 kB)\n",
            "Requirement already satisfied: anyio<5,>=3.5.0 in /usr/local/lib/python3.11/dist-packages (from groq<1,>=0.4.1->langchain_groq) (4.9.0)\n",
            "Requirement already satisfied: distro<2,>=1.7.0 in /usr/local/lib/python3.11/dist-packages (from groq<1,>=0.4.1->langchain_groq) (1.9.0)\n",
            "Requirement already satisfied: httpx<1,>=0.23.0 in /usr/local/lib/python3.11/dist-packages (from groq<1,>=0.4.1->langchain_groq) (0.28.1)\n",
            "Requirement already satisfied: pydantic<3,>=1.9.0 in /usr/local/lib/python3.11/dist-packages (from groq<1,>=0.4.1->langchain_groq) (2.10.6)\n",
            "Requirement already satisfied: sniffio in /usr/local/lib/python3.11/dist-packages (from groq<1,>=0.4.1->langchain_groq) (1.3.1)\n",
            "Requirement already satisfied: typing-extensions<5,>=4.10 in /usr/local/lib/python3.11/dist-packages (from groq<1,>=0.4.1->langchain_groq) (4.12.2)\n",
            "Requirement already satisfied: langsmith<0.4,>=0.1.125 in /usr/local/lib/python3.11/dist-packages (from langchain-core<1.0.0,>=0.3.47->langchain_groq) (0.3.15)\n",
            "Requirement already satisfied: tenacity!=8.4.0,<10.0.0,>=8.1.0 in /usr/local/lib/python3.11/dist-packages (from langchain-core<1.0.0,>=0.3.47->langchain_groq) (9.0.0)\n",
            "Requirement already satisfied: jsonpatch<2.0,>=1.33 in /usr/local/lib/python3.11/dist-packages (from langchain-core<1.0.0,>=0.3.47->langchain_groq) (1.33)\n",
            "Requirement already satisfied: PyYAML>=5.3 in /usr/local/lib/python3.11/dist-packages (from langchain-core<1.0.0,>=0.3.47->langchain_groq) (6.0.2)\n",
            "Requirement already satisfied: packaging<25,>=23.2 in /usr/local/lib/python3.11/dist-packages (from langchain-core<1.0.0,>=0.3.47->langchain_groq) (24.2)\n",
            "Requirement already satisfied: idna>=2.8 in /usr/local/lib/python3.11/dist-packages (from anyio<5,>=3.5.0->groq<1,>=0.4.1->langchain_groq) (3.10)\n",
            "Requirement already satisfied: certifi in /usr/local/lib/python3.11/dist-packages (from httpx<1,>=0.23.0->groq<1,>=0.4.1->langchain_groq) (2025.1.31)\n",
            "Requirement already satisfied: httpcore==1.* in /usr/local/lib/python3.11/dist-packages (from httpx<1,>=0.23.0->groq<1,>=0.4.1->langchain_groq) (1.0.7)\n",
            "Requirement already satisfied: h11<0.15,>=0.13 in /usr/local/lib/python3.11/dist-packages (from httpcore==1.*->httpx<1,>=0.23.0->groq<1,>=0.4.1->langchain_groq) (0.14.0)\n",
            "Requirement already satisfied: jsonpointer>=1.9 in /usr/local/lib/python3.11/dist-packages (from jsonpatch<2.0,>=1.33->langchain-core<1.0.0,>=0.3.47->langchain_groq) (3.0.0)\n",
            "Requirement already satisfied: orjson<4.0.0,>=3.9.14 in /usr/local/lib/python3.11/dist-packages (from langsmith<0.4,>=0.1.125->langchain-core<1.0.0,>=0.3.47->langchain_groq) (3.10.15)\n",
            "Requirement already satisfied: requests<3,>=2 in /usr/local/lib/python3.11/dist-packages (from langsmith<0.4,>=0.1.125->langchain-core<1.0.0,>=0.3.47->langchain_groq) (2.32.3)\n",
            "Requirement already satisfied: requests-toolbelt<2.0.0,>=1.0.0 in /usr/local/lib/python3.11/dist-packages (from langsmith<0.4,>=0.1.125->langchain-core<1.0.0,>=0.3.47->langchain_groq) (1.0.0)\n",
            "Requirement already satisfied: zstandard<0.24.0,>=0.23.0 in /usr/local/lib/python3.11/dist-packages (from langsmith<0.4,>=0.1.125->langchain-core<1.0.0,>=0.3.47->langchain_groq) (0.23.0)\n",
            "Requirement already satisfied: annotated-types>=0.6.0 in /usr/local/lib/python3.11/dist-packages (from pydantic<3,>=1.9.0->groq<1,>=0.4.1->langchain_groq) (0.7.0)\n",
            "Requirement already satisfied: pydantic-core==2.27.2 in /usr/local/lib/python3.11/dist-packages (from pydantic<3,>=1.9.0->groq<1,>=0.4.1->langchain_groq) (2.27.2)\n",
            "Requirement already satisfied: charset-normalizer<4,>=2 in /usr/local/lib/python3.11/dist-packages (from requests<3,>=2->langsmith<0.4,>=0.1.125->langchain-core<1.0.0,>=0.3.47->langchain_groq) (3.4.1)\n",
            "Requirement already satisfied: urllib3<3,>=1.21.1 in /usr/local/lib/python3.11/dist-packages (from requests<3,>=2->langsmith<0.4,>=0.1.125->langchain-core<1.0.0,>=0.3.47->langchain_groq) (2.3.0)\n",
            "Downloading langchain_groq-0.3.1-py3-none-any.whl (15 kB)\n",
            "Downloading groq-0.20.0-py3-none-any.whl (124 kB)\n",
            "\u001b[2K   \u001b[90m━━━━━━━━━━━━━━━━━━━━━━━━━━━━━━━━━━━━━━━━\u001b[0m \u001b[32m124.9/124.9 kB\u001b[0m \u001b[31m4.6 MB/s\u001b[0m eta \u001b[36m0:00:00\u001b[0m\n",
            "\u001b[?25hDownloading langchain_core-0.3.47-py3-none-any.whl (417 kB)\n",
            "\u001b[2K   \u001b[90m━━━━━━━━━━━━━━━━━━━━━━━━━━━━━━━━━━━━━━━━\u001b[0m \u001b[32m417.1/417.1 kB\u001b[0m \u001b[31m13.7 MB/s\u001b[0m eta \u001b[36m0:00:00\u001b[0m\n",
            "\u001b[?25hInstalling collected packages: groq, langchain-core, langchain_groq\n",
            "  Attempting uninstall: langchain-core\n",
            "    Found existing installation: langchain-core 0.3.45\n",
            "    Uninstalling langchain-core-0.3.45:\n",
            "      Successfully uninstalled langchain-core-0.3.45\n",
            "Successfully installed groq-0.20.0 langchain-core-0.3.47 langchain_groq-0.3.1\n"
          ]
        }
      ],
      "source": [
        "!pip install langchain_groq"
      ]
    },
    {
      "cell_type": "code",
      "execution_count": null,
      "metadata": {
        "colab": {
          "background_save": true
        },
        "id": "MnC4oAYiazUd"
      },
      "outputs": [],
      "source": [
        "from langchain_groq import ChatGroq\n",
        "api='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'\n",
        "llm=ChatGroq(model='llama-3.1-8b-instant',api_key=api)"
      ]
    },
    {
      "cell_type": "code",
      "execution_count": null,
      "metadata": {
        "colab": {
          "background_save": true
        },
        "id": "KnwpuTUh7HrH"
      },
      "outputs": [],
      "source": []
    },
    {
      "cell_type": "code",
      "execution_count": null,
      "metadata": {
        "colab": {
          "background_save": true
        },
        "id": "TqRQguHTcwpm"
      },
      "outputs": [],
      "source": [
        "def make_pandas_query(query):\n",
        "  prompt = f\"\"\"\n",
        "  Given the user query \"{query}\", write a valid Pandas query for a DataFrame {df}.\n",
        "  Output only the Pandas code without any explanation.\n",
        "  For example:\n",
        "  Input -> 'find first 10 rows'\n",
        "  Output -> print(df.head(10))\n",
        "  \"\"\"\n",
        "  x = llm.invoke(prompt).content\n",
        "  return x"
      ]
    },
    {
      "cell_type": "code",
      "execution_count": null,
      "metadata": {
        "colab": {
          "background_save": true
        },
        "id": "kB7ibsmZBfHT"
      },
      "outputs": [],
      "source": [
        "def answer(query):\n",
        "   pandas_query=make_pandas_query(query)\n",
        "   generate_answer(pandas_query)\n"
      ]
    },
    {
      "cell_type": "code",
      "execution_count": null,
      "metadata": {
        "id": "vY_jhJsWRNCi"
      },
      "outputs": [],
      "source": [
        "q=input('Enter the query')\n",
        "answer(q)"
      ]
    },
    {
      "cell_type": "code",
      "execution_count": 168,
      "metadata": {
        "id": "_mqTMVzdSyOy",
        "colab": {
          "base_uri": "https://localhost:8080/"
        },
        "outputId": "66115c8f-5909-4f18-fd37-9622aae5e9b9"
      },
      "outputs": [
        {
          "output_type": "stream",
          "name": "stdout",
          "text": [
            "Enter the query:tell me 3bhk flat with pooja room\n",
            "```python\n",
            "print(df[(df['bedRoom'] == '3 Bedrooms') & (df['additionalRoom'].str.contains('Pooja Room'))])\n",
            "```\n",
            "      Unnamed: 0                     property_name  \\\n",
            "70           119  3 BHK Flat in Sector 103 Gurgaon   \n",
            "77           136   3 BHK Flat in Sector 78 Gurgaon   \n",
            "83           145   3 BHK Flat in Sector 89 Gurgaon   \n",
            "110          204   3 BHK Flat in Sector 54 Gurgaon   \n",
            "212          347   3 BHK Flat in Sector 71 Gurgaon   \n",
            "...          ...                               ...   \n",
            "2187        2826  3 BHK Flat in Sector 82A Gurgaon   \n",
            "2276        2967   3 BHK Flat in Sector 95 Gurgaon   \n",
            "2278        2970  3 BHK Flat in Sector 104 Gurgaon   \n",
            "2297        3000   3 BHK Flat in Sector 78 Gurgaon   \n",
            "2304        3015         3 BHK Flat in DLF Phase 3   \n",
            "\n",
            "                          society       price             rate  \\\n",
            "70    Ansal Housing Highland Park  1.25 Crore   ₹ 6,443/sq.ft.   \n",
            "77           Umang Monsoon Breeze      90 Lac   ₹ 4,615/sq.ft.   \n",
            "83               Smart World Gems   1.2 Crore  ₹ 12,526/sq.ft.   \n",
            "110          Suncity Heights3.7 ★  3.25 Crore  ₹ 14,118/sq.ft.   \n",
            "212            CHD Avenue 713.6 ★  1.25 Crore   ₹ 6,597/sq.ft.   \n",
            "...                           ...         ...              ...   \n",
            "2187           Vatika INXT Floors  1.25 Crore   ₹ 8,333/sq.ft.   \n",
            "2276    Sidhartha NCR Greens4.3 ★      96 Lac   ₹ 6,201/sq.ft.   \n",
            "2278           Godrej Summit3.7 ★   1.2 Crore   ₹ 8,298/sq.ft.   \n",
            "2297         Umang Monsoon Breeze   1.2 Crore   ₹ 6,493/sq.ft.   \n",
            "2304         Ambience Lagoon3.9 ★   5.8 Crore  ₹ 12,500/sq.ft.   \n",
            "\n",
            "                                           areaWithType     bedRoom  \\\n",
            "70    Super Built up area 1940(180.23 sq.m.)Carpet a...  3 Bedrooms   \n",
            "77    Super Built up area 1950(181.16 sq.m.)Built Up...  3 Bedrooms   \n",
            "83                          Carpet area: 958 (89 sq.m.)  3 Bedrooms   \n",
            "110                    Carpet area: 2302 (213.86 sq.m.)  3 Bedrooms   \n",
            "212              Super Built up area 1743(161.93 sq.m.)  3 Bedrooms   \n",
            "...                                                 ...         ...   \n",
            "2187                   Carpet area: 1500 (139.35 sq.m.)  3 Bedrooms   \n",
            "2276                   Carpet area: 1548 (143.81 sq.m.)  3 Bedrooms   \n",
            "2278                   Carpet area: 1446 (134.34 sq.m.)  3 Bedrooms   \n",
            "2297  Super Built up area 2250(209.03 sq.m.)Carpet a...  3 Bedrooms   \n",
            "2304                 Built Up area: 3700 (343.74 sq.m.)  3 Bedrooms   \n",
            "\n",
            "         bathroom       balcony                             additionalRoom  \\\n",
            "70    3 Bathrooms  3+ Balconies                                 Pooja Room   \n",
            "77    3 Bathrooms   2 Balconies                    Pooja Room,Servant Room   \n",
            "83    3 Bathrooms   3 Balconies                      Pooja Room,Store Room   \n",
            "110   3 Bathrooms  3+ Balconies                                 Pooja Room   \n",
            "212   4 Bathrooms   2 Balconies  Pooja Room,Study Room,Servant Room,Others   \n",
            "...           ...           ...                                        ...   \n",
            "2187  2 Bathrooms   3 Balconies                      Pooja Room,Study Room   \n",
            "2276  3 Bathrooms   3 Balconies                      Store Room,Pooja Room   \n",
            "2278  2 Bathrooms  3+ Balconies                      Study Room,Pooja Room   \n",
            "2297  3 Bathrooms   2 Balconies                                 Pooja Room   \n",
            "2304  4 Bathrooms  3+ Balconies  Pooja Room,Study Room,Servant Room,Others   \n",
            "\n",
            "                                                address             floorNum  \\\n",
            "70                 Sector 103 Gurgaon, Gurgaon, Haryana   2nd   of 17 Floors   \n",
            "77                  Sector 78 Gurgaon, Gurgaon, Haryana   1st   of 18 Floors   \n",
            "83            N54c, Sector 89 Gurgaon, Gurgaon, Haryana    3rd   of 4 Floors   \n",
            "110                 Sector 54 Gurgaon, Gurgaon, Haryana  Ground of 14 Floors   \n",
            "212        T4-1404, Sector 71 Gurgaon, Gurgaon, Haryana  14th   of 15 Floors   \n",
            "...                                                 ...                  ...   \n",
            "2187  H-12, Plot 14, Sector 82A Gurgaon, Gurgaon, Ha...    2nd   of 2 Floors   \n",
            "2276                Sector 95 Gurgaon, Gurgaon, Haryana   8th   of 21 Floors   \n",
            "2278               Sector 104 Gurgaon, Gurgaon, Haryana  16th   of 18 Floors   \n",
            "2297                Sector 78 Gurgaon, Gurgaon, Haryana   8th   of 12 Floors   \n",
            "2304             Gurgaon, DLF Phase 3, Gurgaon, Haryana    9th   of 9 Floors   \n",
            "\n",
            "             facing     agePossession  \\\n",
            "70       North-East   0 to 1 Year Old   \n",
            "77    Not Mentioned  5 to 10 Year Old   \n",
            "83             East            Oct-23   \n",
            "110            East      10+ Year Old   \n",
            "212      North-East   1 to 5 Year Old   \n",
            "...             ...               ...   \n",
            "2187          North   1 to 5 Year Old   \n",
            "2276  Not Mentioned   0 to 1 Year Old   \n",
            "2278  Not Mentioned   1 to 5 Year Old   \n",
            "2297  Not Mentioned  5 to 10 Year Old   \n",
            "2304     North-East      10+ Year Old   \n",
            "\n",
            "                                        nearbyLocations  \\\n",
            "70    ['State bank ATM', 'Dr. Hitesh Dawar', 'Bhardw...   \n",
            "77    ['Proposed Metro Station', 'Mahapal Shing', 'N...   \n",
            "83    ['Sant Soordas Sihi Metro Station', 'Airia Mal...   \n",
            "110   ['Sector 54 chowk metro station', 'Sector metr...   \n",
            "212   ['Huda City Centre', 'Apna Mart', 'Rajiv Chowk...   \n",
            "...                                                 ...   \n",
            "2187  ['Vatika Town Square-INXT', 'NH 48, Sector 78,...   \n",
            "2276  ['Yadav Clinic', 'Bangali Clinic', 'Dr. J. S. ...   \n",
            "2278  ['MG Road Metro Station', 'The Esplanade Mall'...   \n",
            "2297  ['Proposed Metro Station', 'Mahapal Shing', 'N...   \n",
            "2304  ['Micromax moulsari avenue metro station', 'In...   \n",
            "\n",
            "                                            description  \\\n",
            "70    Its bang on dwarka expressway with all connect...   \n",
            "77                 Immediate sell. Rates are negotiable   \n",
            "83    Corner unit near biggest green area of the pro...   \n",
            "110   The apartment is endowed with sunlight and has...   \n",
            "212   Looking for a 3 bhk property for sale in gurga...   \n",
            "...                                                 ...   \n",
            "2187  It has a green area in the front, and on the o...   \n",
            "2276  Residential apartment for sell.Located on 8th ...   \n",
            "2278  Ready to move fully furnished 2.5 bhk flat, pa...   \n",
            "2297  A 3 bedroom flat, located in sector-78 gurgaon...   \n",
            "2304  Luxury condominium complex located on delhi gu...   \n",
            "\n",
            "                                         furnishDetails  \\\n",
            "70                      No furnishing Details available   \n",
            "77    ['6 Fan', 'No AC', 'No Bed', 'No Chimney', 'No...   \n",
            "83    ['1 Wardrobe', '1 Fan', '1 Light', 'No AC', 'N...   \n",
            "110   ['5 Fan', '1 Exhaust Fan', '3 Geyser', '12 Lig...   \n",
            "212   ['7 Fan', '1 Fridge', '1 Exhaust Fan', '3 Geys...   \n",
            "...                                                 ...   \n",
            "2187  ['3 Wardrobe', '4 Fan', '1 Exhaust Fan', '2 Ge...   \n",
            "2276                    No furnishing Details available   \n",
            "2278  ['1 Water Purifier', '8 Fan', '1 Exhaust Fan',...   \n",
            "2297  ['1 Water Purifier', '1 Fridge', '5 Fan', '1 E...   \n",
            "2304  ['1 Water Purifier', '10 Fan', '1 Fridge', '1 ...   \n",
            "\n",
            "                                               features  \\\n",
            "70    ['Security / Fire Alarm', 'Feng Shui / Vaastu ...   \n",
            "77    ['Power Back-up', 'Feng Shui / Vaastu Complian...   \n",
            "83    ['Security / Fire Alarm', 'Private Garden / Te...   \n",
            "110   ['Security / Fire Alarm', 'Feng Shui / Vaastu ...   \n",
            "212   ['Security / Fire Alarm', 'Feng Shui / Vaastu ...   \n",
            "...                                                 ...   \n",
            "2187  ['Security / Fire Alarm', 'Private Garden / Te...   \n",
            "2276                   ['Lift(s)', 'Park', 'Piped-gas']   \n",
            "2278  ['Water purifier', 'Security / Fire Alarm', 'F...   \n",
            "2297                     ['Piped-gas', 'Natural Light']   \n",
            "2304  ['Security / Fire Alarm', 'Private Garden / Te...   \n",
            "\n",
            "                                                 rating property_id  \n",
            "70    ['Environment4 out of 5', 'Safety4 out of 5', ...   C68575328  \n",
            "77    ['Environment4 out of 5', 'Safety4 out of 5', ...   C68532182  \n",
            "83    ['Environment4 out of 5', 'Safety4 out of 5', ...   L68503958  \n",
            "110   ['Green Area4 out of 5', 'Amenities4 out of 5'...   Y64134038  \n",
            "212   ['Green Area5 out of 5', 'Construction3 out of...   M68092930  \n",
            "...                                                 ...         ...  \n",
            "2187  ['Safety5 out of 5', 'Lifestyle5 out of 5', 'E...   Z67067884  \n",
            "2276  ['Management4 out of 5', 'Green Area5 out of 5...   P61617128  \n",
            "2278  ['Management3 out of 5', 'Green Area4.5 out of...   S51643710  \n",
            "2297  ['Safety4 out of 5', 'Lifestyle4 out of 5', 'E...   R61360534  \n",
            "2304  ['Management5 out of 5', 'Green Area5 out of 5...   J18888617  \n",
            "\n",
            "[192 rows x 20 columns]\n",
            "\n"
          ]
        }
      ],
      "source": [
        "import json\n",
        "import pandas as pd\n",
        "#df=pd.read_csv('/content/new_flats.csv')\n",
        "def make_pandas_query(query):\n",
        "    prompt = f\"\"\"\n",
        "    Given the user query \"{query}\", write a valid strict Pandas query for a DataFrame {df}.\n",
        "    Output only the Pandas query without any explanation.\n",
        "    Example:\n",
        "    - Input: 'find first 10 rows'\n",
        "    - Output: print(df.head(10))\n",
        "    \"\"\"\n",
        "    pandas_code = llm.invoke(prompt).content.strip()  # Ensure clean output\n",
        "    print(pandas_code)  # Debugging\n",
        "    return pandas_code\n",
        "\n",
        "def generate_answer(pandas_query):\n",
        "    python_repl.run(\"import pandas as pd\")\n",
        "    python_repl.run(\"df = pd.read_csv('/content/new_flats.csv')\")\n",
        "\n",
        "    # Ensure df is loaded (for debugging)\n",
        "    #print(python_repl.run(\"print(df.head())\"))\n",
        "\n",
        "    # Run the generated Pandas query\n",
        "    result = python_repl.run(pandas_query)\n",
        "    return result\n",
        "\n",
        "def answer(query):\n",
        "    pandas_query = make_pandas_query(query)\n",
        "    ans = generate_answer(pandas_query)\n",
        "    return ans\n",
        "\n",
        "q = input('Enter the query:')\n",
        "ans = answer(q)\n",
        "print(ans)\n"
      ]
    },
    {
      "cell_type": "code",
      "execution_count": 157,
      "metadata": {
        "id": "MGOMg9QTU1Ax",
        "colab": {
          "base_uri": "https://localhost:8080/"
        },
        "outputId": "6ea661ca-1f74-4803-e252-527abc6afbd4"
      },
      "outputs": [
        {
          "output_type": "stream",
          "name": "stdout",
          "text": [
            "Based on the provided data, here are a few options for a 3 BHK flat with 2 balconies:\n",
            "\n",
            "1. 3 BHK Flat in Sector 78 Gurgaon (Raheja Revanta) - This flat has a built-up area of 2813 sq. ft. and is located on the 31st floor of a 40-floor building. It has 3 bathrooms and is priced at ₹4.75 crore.\n",
            "\n",
            "2. 3 BHK Flat in Sector 109 Gurgaon (Chintels Paradiso) - This flat has a super built-up area of 2030 sq. ft. and is located on the ground floor of an 11-floor building. It has 3 bathrooms and is priced at ₹1.8 crore.\n",
            "\n",
            "3. 3 BHK Flat in Sector 88A Gurgaon (Godrej Oasis) - This flat has a carpet area of 1850 sq. ft. and is located on the 3rd floor of a 17-floor building. It has 3 bathrooms and is priced at ₹1.5 crore.\n",
            "\n",
            "4. 3 BHK Flat in Sector 9A Gurgaon (Jammu and Kashmir Bank Employees CGHS) - This flat has a carpet area of 1550 sq. ft. and is located on the 5th floor of a 5-floor building. It has 3 bathrooms and is priced at ₹95 lac.\n",
            "\n",
            "5. 3 BHK Flat in Sector 78 Gurgaon (Umang Monsoon Breeze) - This flat has a super built-up area of 2250 sq. ft. and is located on the 8th floor of a 12-floor building. It has 3 bathrooms and is priced at ₹1.2 crore.\n",
            "\n",
            "Note that the prices and features may vary based on the availability and condition of the property. It is recommended to verify the information with the property owner or agent before making a decision.\n"
          ]
        }
      ],
      "source": [
        "prompt = f\"Based on the following data, provide a relevant answer to the user's query.\\n\\nUser Query: {q}\\nData: {ans}\\n\\nAnswer:\"\n",
        "response = llm.invoke(prompt).content\n",
        "print(response)\n"
      ]
    }
  ],
  "metadata": {
    "colab": {
      "provenance": [],
      "authorship_tag": "ABX9TyM9sN5xWkATnGazj6j/h6dR",
      "include_colab_link": true
    },
    "kernelspec": {
      "display_name": "Python 3",
      "name": "python3"
    },
    "language_info": {
      "name": "python"
    }
  },
  "nbformat": 4,
  "nbformat_minor": 0
}